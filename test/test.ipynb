{
 "cells": [
  {
   "cell_type": "markdown",
   "metadata": {},
   "source": [
    "# Document Title\n",
    "\n",
    "This document contains information on various topics.\n",
    "\n",
    "**Author**: 제시리미트리스\n"
   ]
  },
  {
   "cell_type": "markdown",
   "metadata": {},
   "source": [
    "# My Favorite Dog Breeds\n",
    "\n",
    "Dogs are often called man's best friend due to their loyalty, companionship, and ability to provide emotional support. Below are some of my favorite dog breeds:\n",
    "\n",
    "- Golden Retriever\n",
    "- German Shepherd\n",
    "- Bulldog\n",
    "- Beagle\n",
    "- Poodle\n"
   ]
  },
  {
   "cell_type": "code",
   "execution_count": 11,
   "metadata": {},
   "outputs": [
    {
     "name": "stdout",
     "output_type": "stream",
     "text": [
      "135 minutes is equal to 2 hours and 15 minutes.\n"
     ]
    }
   ],
   "source": [
    "# 분을 시간으로 변환하는 코드\n",
    "\n",
    "# 변수에 분 값 저장\n",
    "minutes = 135  # 예시: 135분\n",
    "\n",
    "# 분을 시간과 나머지 분으로 변환\n",
    "hours = minutes // 60  # 시간 계산 (몫)\n",
    "remaining_minutes = minutes % 60  # 나머지 분 계산 (나머지)\n",
    "\n",
    "# 결과 출력\n",
    "print(f\"{minutes} minutes is equal to {hours} hours and {remaining_minutes} minutes.\")\n"
   ]
  },
  {
   "cell_type": "code",
   "execution_count": 10,
   "metadata": {},
   "outputs": [
    {
     "name": "stdout",
     "output_type": "stream",
     "text": [
      "(5 * 3) + 10 = 25\n"
     ]
    }
   ],
   "source": [
    "# 두 숫자를 곱하고, 그 결과에 다른 숫자를 더하는 코드\n",
    "\n",
    "# 변수에 숫자 값 저장\n",
    "a = 5  # 첫 번째 숫자\n",
    "b = 3  # 두 번째 숫자\n",
    "c = 10 # 더할 숫자\n",
    "\n",
    "# 곱셈 후 덧셈\n",
    "result = (a * b) + c\n",
    "\n",
    "# 결과 출력\n",
    "print(f\"({a} * {b}) + {c} = {result}\")\n"
   ]
  },
  {
   "cell_type": "code",
   "execution_count": 3,
   "metadata": {},
   "outputs": [
    {
     "name": "stdout",
     "output_type": "stream",
     "text": [
      "List of Data Science Languages:\n",
      "Python\n",
      "R\n",
      "SQL\n",
      "Julia\n",
      "Scala\n",
      "MATLAB\n",
      "SAS\n",
      "Java\n"
     ]
    }
   ],
   "source": [
    "# 데이터 과학 언어 리스트 생성\n",
    "data_science_languages = [\"Python\", \"R\", \"SQL\", \"Julia\", \"Scala\", \"MATLAB\", \"SAS\", \"Java\"]\n",
    "\n",
    "# 리스트 출력\n",
    "print(\"List of Data Science Languages:\")\n",
    "for language in data_science_languages:\n",
    "    print(language)\n"
   ]
  },
  {
   "cell_type": "code",
   "execution_count": 1,
   "metadata": {},
   "outputs": [
    {
     "name": "stdout",
     "output_type": "stream",
     "text": [
      "Hello, World!\n"
     ]
    }
   ],
   "source": [
    "sentence = \"Hello, World!\"\n",
    "print(sentence)"
   ]
  }
 ],
 "metadata": {
  "kernelspec": {
   "display_name": "Python 3",
   "language": "python",
   "name": "python3"
  },
  "language_info": {
   "codemirror_mode": {
    "name": "ipython",
    "version": 3
   },
   "file_extension": ".py",
   "mimetype": "text/x-python",
   "name": "python",
   "nbconvert_exporter": "python",
   "pygments_lexer": "ipython3",
   "version": "3.12.3"
  }
 },
 "nbformat": 4,
 "nbformat_minor": 2
}
